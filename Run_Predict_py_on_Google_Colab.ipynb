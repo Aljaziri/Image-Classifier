{
  "nbformat": 4,
  "nbformat_minor": 0,
  "metadata": {
    "colab": {
      "provenance": []
    },
    "kernelspec": {
      "name": "python3",
      "display_name": "Python 3"
    },
    "language_info": {
      "name": "python"
    }
  },
  "cells": [
    {
      "cell_type": "code",
      "execution_count": 1,
      "metadata": {
        "colab": {
          "base_uri": "https://localhost:8080/"
        },
        "id": "0eWzS5QehezB",
        "outputId": "fe06b85f-8793-4b69-89a3-13daa32188d5"
      },
      "outputs": [
        {
          "output_type": "stream",
          "name": "stdout",
          "text": [
            "Mounted at /content/drive\n"
          ]
        }
      ],
      "source": [
        "# Map Google Drive\n",
        "from google.colab import drive\n",
        "drive.mount('/content/drive')\n",
        "\n",
        "# After mapping the drive , copy the python file to the notebook space"
      ]
    },
    {
      "cell_type": "code",
      "source": [
        "!python predict.py ./test_images/orange_dahlia.jpg my_model.h5 --category_names label_map.json"
      ],
      "metadata": {
        "colab": {
          "base_uri": "https://localhost:8080/"
        },
        "id": "WY95FkiLjQzM",
        "outputId": "697a31b5-7fb0-4136-dc8b-43e1a5485672"
      },
      "execution_count": 25,
      "outputs": [
        {
          "output_type": "stream",
          "name": "stdout",
          "text": [
            "2023-10-30 18:12:14.739136: E tensorflow/compiler/xla/stream_executor/cuda/cuda_dnn.cc:9342] Unable to register cuDNN factory: Attempting to register factory for plugin cuDNN when one has already been registered\n",
            "2023-10-30 18:12:14.739201: E tensorflow/compiler/xla/stream_executor/cuda/cuda_fft.cc:609] Unable to register cuFFT factory: Attempting to register factory for plugin cuFFT when one has already been registered\n",
            "2023-10-30 18:12:14.739249: E tensorflow/compiler/xla/stream_executor/cuda/cuda_blas.cc:1518] Unable to register cuBLAS factory: Attempting to register factory for plugin cuBLAS when one has already been registered\n",
            "2023-10-30 18:12:14.748411: I tensorflow/core/platform/cpu_feature_guard.cc:182] This TensorFlow binary is optimized to use available CPU instructions in performance-critical operations.\n",
            "To enable the following instructions: AVX2 FMA, in other operations, rebuild TensorFlow with the appropriate compiler flags.\n",
            "2023-10-30 18:12:16.134589: W tensorflow/compiler/tf2tensorrt/utils/py_utils.cc:38] TF-TRT Warning: Could not find TensorRT\n",
            "predict.py, running\n",
            "Namespace(arg1='./test_images/orange_dahlia.jpg', arg2='my_model.h5', top_k=None, category_names='label_map.json')\n",
            "1/1 [==============================] - 1s 1s/step\n",
            "[0.011623896, 0.00028821023, 0.0044057495, 0.0023218128, 0.0011427567]\n",
            "['orange dahlia', 'english marigold', 'gazania', 'osteospermum', 'blanket flower']\n"
          ]
        }
      ]
    },
    {
      "cell_type": "code",
      "source": [],
      "metadata": {
        "id": "T8o6TLIujx6P"
      },
      "execution_count": null,
      "outputs": []
    }
  ]
}